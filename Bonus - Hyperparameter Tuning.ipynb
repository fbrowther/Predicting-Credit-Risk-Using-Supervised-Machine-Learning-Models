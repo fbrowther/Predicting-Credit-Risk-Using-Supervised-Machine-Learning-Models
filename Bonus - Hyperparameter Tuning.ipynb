{
 "cells": [
  {
   "cell_type": "code",
   "execution_count": 1,
   "metadata": {},
   "outputs": [],
   "source": [
    "%matplotlib inline\n",
    "import numpy as np\n",
    "import pandas as pd\n",
    "from pathlib import Path\n",
    "from matplotlib import pyplot as plt\n",
    "from sklearn.linear_model import LinearRegression, LogisticRegression, Ridge, Lasso\n",
    "from sklearn.model_selection import train_test_split\n",
    "from sklearn.model_selection import train_test_split\n",
    "from sklearn.preprocessing import StandardScaler"
   ]
  },
  {
   "cell_type": "code",
   "execution_count": 2,
   "metadata": {},
   "outputs": [
    {
     "data": {
      "text/html": [
       "<div>\n",
       "<style scoped>\n",
       "    .dataframe tbody tr th:only-of-type {\n",
       "        vertical-align: middle;\n",
       "    }\n",
       "\n",
       "    .dataframe tbody tr th {\n",
       "        vertical-align: top;\n",
       "    }\n",
       "\n",
       "    .dataframe thead th {\n",
       "        text-align: right;\n",
       "    }\n",
       "</style>\n",
       "<table border=\"1\" class=\"dataframe\">\n",
       "  <thead>\n",
       "    <tr style=\"text-align: right;\">\n",
       "      <th></th>\n",
       "      <th>loan_size</th>\n",
       "      <th>interest_rate</th>\n",
       "      <th>borrower_income</th>\n",
       "      <th>debt_to_income</th>\n",
       "      <th>num_of_accounts</th>\n",
       "      <th>derogatory_marks</th>\n",
       "      <th>total_debt</th>\n",
       "      <th>loan_status</th>\n",
       "    </tr>\n",
       "  </thead>\n",
       "  <tbody>\n",
       "    <tr>\n",
       "      <th>0</th>\n",
       "      <td>10700.0</td>\n",
       "      <td>7.672</td>\n",
       "      <td>52800</td>\n",
       "      <td>0.431818</td>\n",
       "      <td>5</td>\n",
       "      <td>1</td>\n",
       "      <td>22800</td>\n",
       "      <td>0</td>\n",
       "    </tr>\n",
       "    <tr>\n",
       "      <th>1</th>\n",
       "      <td>8400.0</td>\n",
       "      <td>6.692</td>\n",
       "      <td>43600</td>\n",
       "      <td>0.311927</td>\n",
       "      <td>3</td>\n",
       "      <td>0</td>\n",
       "      <td>13600</td>\n",
       "      <td>0</td>\n",
       "    </tr>\n",
       "    <tr>\n",
       "      <th>2</th>\n",
       "      <td>9000.0</td>\n",
       "      <td>6.963</td>\n",
       "      <td>46100</td>\n",
       "      <td>0.349241</td>\n",
       "      <td>3</td>\n",
       "      <td>0</td>\n",
       "      <td>16100</td>\n",
       "      <td>0</td>\n",
       "    </tr>\n",
       "    <tr>\n",
       "      <th>3</th>\n",
       "      <td>10700.0</td>\n",
       "      <td>7.664</td>\n",
       "      <td>52700</td>\n",
       "      <td>0.430740</td>\n",
       "      <td>5</td>\n",
       "      <td>1</td>\n",
       "      <td>22700</td>\n",
       "      <td>0</td>\n",
       "    </tr>\n",
       "    <tr>\n",
       "      <th>4</th>\n",
       "      <td>10800.0</td>\n",
       "      <td>7.698</td>\n",
       "      <td>53000</td>\n",
       "      <td>0.433962</td>\n",
       "      <td>5</td>\n",
       "      <td>1</td>\n",
       "      <td>23000</td>\n",
       "      <td>0</td>\n",
       "    </tr>\n",
       "  </tbody>\n",
       "</table>\n",
       "</div>"
      ],
      "text/plain": [
       "   loan_size  interest_rate  borrower_income  debt_to_income  num_of_accounts  \\\n",
       "0    10700.0          7.672            52800        0.431818                5   \n",
       "1     8400.0          6.692            43600        0.311927                3   \n",
       "2     9000.0          6.963            46100        0.349241                3   \n",
       "3    10700.0          7.664            52700        0.430740                5   \n",
       "4    10800.0          7.698            53000        0.433962                5   \n",
       "\n",
       "   derogatory_marks  total_debt  loan_status  \n",
       "0                 1       22800            0  \n",
       "1                 0       13600            0  \n",
       "2                 0       16100            0  \n",
       "3                 1       22700            0  \n",
       "4                 1       23000            0  "
      ]
     },
     "execution_count": 2,
     "metadata": {},
     "output_type": "execute_result"
    }
   ],
   "source": [
    "df = pd.read_csv(\"./Resources/lending_data.csv\")\n",
    "df.head()"
   ]
  },
  {
   "cell_type": "code",
   "execution_count": 3,
   "metadata": {},
   "outputs": [
    {
     "data": {
      "text/plain": [
       "loan_size           0\n",
       "interest_rate       0\n",
       "borrower_income     0\n",
       "debt_to_income      0\n",
       "num_of_accounts     0\n",
       "derogatory_marks    0\n",
       "total_debt          0\n",
       "loan_status         0\n",
       "dtype: int64"
      ]
     },
     "execution_count": 3,
     "metadata": {},
     "output_type": "execute_result"
    }
   ],
   "source": [
    "# Count of rows with null values\n",
    "df.isna().sum()"
   ]
  },
  {
   "cell_type": "code",
   "execution_count": 4,
   "metadata": {},
   "outputs": [],
   "source": [
    "y = df[\"loan_status\"]\n",
    "target_names = [\"negative\", \"positive\"]"
   ]
  },
  {
   "cell_type": "code",
   "execution_count": 5,
   "metadata": {},
   "outputs": [
    {
     "data": {
      "text/html": [
       "<div>\n",
       "<style scoped>\n",
       "    .dataframe tbody tr th:only-of-type {\n",
       "        vertical-align: middle;\n",
       "    }\n",
       "\n",
       "    .dataframe tbody tr th {\n",
       "        vertical-align: top;\n",
       "    }\n",
       "\n",
       "    .dataframe thead th {\n",
       "        text-align: right;\n",
       "    }\n",
       "</style>\n",
       "<table border=\"1\" class=\"dataframe\">\n",
       "  <thead>\n",
       "    <tr style=\"text-align: right;\">\n",
       "      <th></th>\n",
       "      <th>loan_size</th>\n",
       "      <th>interest_rate</th>\n",
       "      <th>borrower_income</th>\n",
       "      <th>debt_to_income</th>\n",
       "      <th>num_of_accounts</th>\n",
       "      <th>derogatory_marks</th>\n",
       "      <th>total_debt</th>\n",
       "    </tr>\n",
       "  </thead>\n",
       "  <tbody>\n",
       "    <tr>\n",
       "      <th>0</th>\n",
       "      <td>10700.0</td>\n",
       "      <td>7.672</td>\n",
       "      <td>52800</td>\n",
       "      <td>0.431818</td>\n",
       "      <td>5</td>\n",
       "      <td>1</td>\n",
       "      <td>22800</td>\n",
       "    </tr>\n",
       "    <tr>\n",
       "      <th>1</th>\n",
       "      <td>8400.0</td>\n",
       "      <td>6.692</td>\n",
       "      <td>43600</td>\n",
       "      <td>0.311927</td>\n",
       "      <td>3</td>\n",
       "      <td>0</td>\n",
       "      <td>13600</td>\n",
       "    </tr>\n",
       "    <tr>\n",
       "      <th>2</th>\n",
       "      <td>9000.0</td>\n",
       "      <td>6.963</td>\n",
       "      <td>46100</td>\n",
       "      <td>0.349241</td>\n",
       "      <td>3</td>\n",
       "      <td>0</td>\n",
       "      <td>16100</td>\n",
       "    </tr>\n",
       "    <tr>\n",
       "      <th>3</th>\n",
       "      <td>10700.0</td>\n",
       "      <td>7.664</td>\n",
       "      <td>52700</td>\n",
       "      <td>0.430740</td>\n",
       "      <td>5</td>\n",
       "      <td>1</td>\n",
       "      <td>22700</td>\n",
       "    </tr>\n",
       "    <tr>\n",
       "      <th>4</th>\n",
       "      <td>10800.0</td>\n",
       "      <td>7.698</td>\n",
       "      <td>53000</td>\n",
       "      <td>0.433962</td>\n",
       "      <td>5</td>\n",
       "      <td>1</td>\n",
       "      <td>23000</td>\n",
       "    </tr>\n",
       "  </tbody>\n",
       "</table>\n",
       "</div>"
      ],
      "text/plain": [
       "   loan_size  interest_rate  borrower_income  debt_to_income  num_of_accounts  \\\n",
       "0    10700.0          7.672            52800        0.431818                5   \n",
       "1     8400.0          6.692            43600        0.311927                3   \n",
       "2     9000.0          6.963            46100        0.349241                3   \n",
       "3    10700.0          7.664            52700        0.430740                5   \n",
       "4    10800.0          7.698            53000        0.433962                5   \n",
       "\n",
       "   derogatory_marks  total_debt  \n",
       "0                 1       22800  \n",
       "1                 0       13600  \n",
       "2                 0       16100  \n",
       "3                 1       22700  \n",
       "4                 1       23000  "
      ]
     },
     "execution_count": 5,
     "metadata": {},
     "output_type": "execute_result"
    }
   ],
   "source": [
    "X = df.drop(\"loan_status\", axis=1)\n",
    "feature_names = X.columns\n",
    "X.head()"
   ]
  },
  {
   "cell_type": "code",
   "execution_count": 6,
   "metadata": {},
   "outputs": [],
   "source": [
    "# Assign X and y values\n",
    "        \n",
    "X = df.drop('loan_status', axis=1)\n",
    "y = df['loan_status']"
   ]
  },
  {
   "cell_type": "code",
   "execution_count": 7,
   "metadata": {},
   "outputs": [
    {
     "data": {
      "text/plain": [
       "0        0\n",
       "1        0\n",
       "2        0\n",
       "3        0\n",
       "4        0\n",
       "        ..\n",
       "77531    1\n",
       "77532    1\n",
       "77533    1\n",
       "77534    1\n",
       "77535    1\n",
       "Name: loan_status, Length: 77536, dtype: int64"
      ]
     },
     "execution_count": 7,
     "metadata": {},
     "output_type": "execute_result"
    }
   ],
   "source": [
    "# Checking y \n",
    "y"
   ]
  },
  {
   "cell_type": "code",
   "execution_count": 8,
   "metadata": {},
   "outputs": [
    {
     "data": {
      "text/plain": [
       "0    75036\n",
       "1     2500\n",
       "Name: loan_status, dtype: int64"
      ]
     },
     "execution_count": 8,
     "metadata": {},
     "output_type": "execute_result"
    }
   ],
   "source": [
    "y.value_counts()"
   ]
  },
  {
   "cell_type": "code",
   "execution_count": 9,
   "metadata": {},
   "outputs": [],
   "source": [
    "# Split the data into X_train, X_test, y_train, y_test\n",
    "X_train, X_test, y_train, y_test = train_test_split(X, y, random_state=42)"
   ]
  },
  {
   "cell_type": "code",
   "execution_count": 10,
   "metadata": {},
   "outputs": [
    {
     "data": {
      "text/plain": [
       "((58152, 7), (19384, 7))"
      ]
     },
     "execution_count": 10,
     "metadata": {},
     "output_type": "execute_result"
    }
   ],
   "source": [
    "X_train.shape, X_test.shape"
   ]
  },
  {
   "attachments": {},
   "cell_type": "markdown",
   "metadata": {},
   "source": [
    "# Logistic Regression "
   ]
  },
  {
   "cell_type": "code",
   "execution_count": 11,
   "metadata": {},
   "outputs": [],
   "source": [
    "# Train a Logistic Regression model print the model score\n",
    "# Step 1: Instantiate model\n",
    "model = LogisticRegression()"
   ]
  },
  {
   "cell_type": "code",
   "execution_count": 12,
   "metadata": {},
   "outputs": [],
   "source": [
    "# Normalize data using Standard scaler\n",
    "scaler = StandardScaler().fit(X_train)\n",
    "X_train_scaled = scaler.transform(X_train)\n",
    "X_test_scaled = scaler.transform(X_test)"
   ]
  },
  {
   "cell_type": "code",
   "execution_count": 13,
   "metadata": {},
   "outputs": [
    {
     "data": {
      "text/html": [
       "<style>#sk-container-id-1 {color: black;background-color: white;}#sk-container-id-1 pre{padding: 0;}#sk-container-id-1 div.sk-toggleable {background-color: white;}#sk-container-id-1 label.sk-toggleable__label {cursor: pointer;display: block;width: 100%;margin-bottom: 0;padding: 0.3em;box-sizing: border-box;text-align: center;}#sk-container-id-1 label.sk-toggleable__label-arrow:before {content: \"▸\";float: left;margin-right: 0.25em;color: #696969;}#sk-container-id-1 label.sk-toggleable__label-arrow:hover:before {color: black;}#sk-container-id-1 div.sk-estimator:hover label.sk-toggleable__label-arrow:before {color: black;}#sk-container-id-1 div.sk-toggleable__content {max-height: 0;max-width: 0;overflow: hidden;text-align: left;background-color: #f0f8ff;}#sk-container-id-1 div.sk-toggleable__content pre {margin: 0.2em;color: black;border-radius: 0.25em;background-color: #f0f8ff;}#sk-container-id-1 input.sk-toggleable__control:checked~div.sk-toggleable__content {max-height: 200px;max-width: 100%;overflow: auto;}#sk-container-id-1 input.sk-toggleable__control:checked~label.sk-toggleable__label-arrow:before {content: \"▾\";}#sk-container-id-1 div.sk-estimator input.sk-toggleable__control:checked~label.sk-toggleable__label {background-color: #d4ebff;}#sk-container-id-1 div.sk-label input.sk-toggleable__control:checked~label.sk-toggleable__label {background-color: #d4ebff;}#sk-container-id-1 input.sk-hidden--visually {border: 0;clip: rect(1px 1px 1px 1px);clip: rect(1px, 1px, 1px, 1px);height: 1px;margin: -1px;overflow: hidden;padding: 0;position: absolute;width: 1px;}#sk-container-id-1 div.sk-estimator {font-family: monospace;background-color: #f0f8ff;border: 1px dotted black;border-radius: 0.25em;box-sizing: border-box;margin-bottom: 0.5em;}#sk-container-id-1 div.sk-estimator:hover {background-color: #d4ebff;}#sk-container-id-1 div.sk-parallel-item::after {content: \"\";width: 100%;border-bottom: 1px solid gray;flex-grow: 1;}#sk-container-id-1 div.sk-label:hover label.sk-toggleable__label {background-color: #d4ebff;}#sk-container-id-1 div.sk-serial::before {content: \"\";position: absolute;border-left: 1px solid gray;box-sizing: border-box;top: 0;bottom: 0;left: 50%;z-index: 0;}#sk-container-id-1 div.sk-serial {display: flex;flex-direction: column;align-items: center;background-color: white;padding-right: 0.2em;padding-left: 0.2em;position: relative;}#sk-container-id-1 div.sk-item {position: relative;z-index: 1;}#sk-container-id-1 div.sk-parallel {display: flex;align-items: stretch;justify-content: center;background-color: white;position: relative;}#sk-container-id-1 div.sk-item::before, #sk-container-id-1 div.sk-parallel-item::before {content: \"\";position: absolute;border-left: 1px solid gray;box-sizing: border-box;top: 0;bottom: 0;left: 50%;z-index: -1;}#sk-container-id-1 div.sk-parallel-item {display: flex;flex-direction: column;z-index: 1;position: relative;background-color: white;}#sk-container-id-1 div.sk-parallel-item:first-child::after {align-self: flex-end;width: 50%;}#sk-container-id-1 div.sk-parallel-item:last-child::after {align-self: flex-start;width: 50%;}#sk-container-id-1 div.sk-parallel-item:only-child::after {width: 0;}#sk-container-id-1 div.sk-dashed-wrapped {border: 1px dashed gray;margin: 0 0.4em 0.5em 0.4em;box-sizing: border-box;padding-bottom: 0.4em;background-color: white;}#sk-container-id-1 div.sk-label label {font-family: monospace;font-weight: bold;display: inline-block;line-height: 1.2em;}#sk-container-id-1 div.sk-label-container {text-align: center;}#sk-container-id-1 div.sk-container {/* jupyter's `normalize.less` sets `[hidden] { display: none; }` but bootstrap.min.css set `[hidden] { display: none !important; }` so we also need the `!important` here to be able to override the default hidden behavior on the sphinx rendered scikit-learn.org. See: https://github.com/scikit-learn/scikit-learn/issues/21755 */display: inline-block !important;position: relative;}#sk-container-id-1 div.sk-text-repr-fallback {display: none;}</style><div id=\"sk-container-id-1\" class=\"sk-top-container\"><div class=\"sk-text-repr-fallback\"><pre>LogisticRegression()</pre><b>In a Jupyter environment, please rerun this cell to show the HTML representation or trust the notebook. <br />On GitHub, the HTML representation is unable to render, please try loading this page with nbviewer.org.</b></div><div class=\"sk-container\" hidden><div class=\"sk-item\"><div class=\"sk-estimator sk-toggleable\"><input class=\"sk-toggleable__control sk-hidden--visually\" id=\"sk-estimator-id-1\" type=\"checkbox\" checked><label for=\"sk-estimator-id-1\" class=\"sk-toggleable__label sk-toggleable__label-arrow\">LogisticRegression</label><div class=\"sk-toggleable__content\"><pre>LogisticRegression()</pre></div></div></div></div></div>"
      ],
      "text/plain": [
       "LogisticRegression()"
      ]
     },
     "execution_count": 13,
     "metadata": {},
     "output_type": "execute_result"
    }
   ],
   "source": [
    "# Re-fit the sclaed data\n",
    "model.fit(X_train_scaled, y_train)"
   ]
  },
  {
   "cell_type": "code",
   "execution_count": 14,
   "metadata": {},
   "outputs": [
    {
     "name": "stdout",
     "output_type": "stream",
     "text": [
      "Train R2 Score:  0.9941188609162196\n",
      "Test R2 Score:  0.9941704498555509\n"
     ]
    }
   ],
   "source": [
    "# Evaluate the model\n",
    "print(\"Train R2 Score: \", model.score(X_train_scaled, y_train))\n",
    "print(\"Test R2 Score: \", model.score(X_test_scaled, y_test))"
   ]
  },
  {
   "cell_type": "code",
   "execution_count": 15,
   "metadata": {},
   "outputs": [
    {
     "name": "stdout",
     "output_type": "stream",
     "text": [
      "              precision    recall  f1-score   support\n",
      "\n",
      "           0       1.00      0.99      1.00     18792\n",
      "           1       0.85      0.98      0.91       592\n",
      "\n",
      "    accuracy                           0.99     19384\n",
      "   macro avg       0.93      0.99      0.95     19384\n",
      "weighted avg       0.99      0.99      0.99     19384\n",
      "\n"
     ]
    }
   ],
   "source": [
    "from sklearn.metrics import confusion_matrix, classification_report, precision_score, recall_score\n",
    "#Assess other metrics for the model\n",
    "y_true = y_test\n",
    "y_pred = model.predict(X_test_scaled)\n",
    "print(classification_report(y_true, y_pred))"
   ]
  },
  {
   "attachments": {},
   "cell_type": "markdown",
   "metadata": {},
   "source": [
    "# Random Forest Classifier"
   ]
  },
  {
   "cell_type": "code",
   "execution_count": 16,
   "metadata": {},
   "outputs": [],
   "source": [
    "# Fit a Random Forests classifier to the data\n",
    "from sklearn.ensemble import RandomForestClassifier\n",
    "\n",
    "# Step 1: Instantiate model\n",
    "clf = RandomForestClassifier(random_state=1, n_estimators=500)"
   ]
  },
  {
   "cell_type": "code",
   "execution_count": 17,
   "metadata": {},
   "outputs": [
    {
     "data": {
      "text/html": [
       "<style>#sk-container-id-2 {color: black;background-color: white;}#sk-container-id-2 pre{padding: 0;}#sk-container-id-2 div.sk-toggleable {background-color: white;}#sk-container-id-2 label.sk-toggleable__label {cursor: pointer;display: block;width: 100%;margin-bottom: 0;padding: 0.3em;box-sizing: border-box;text-align: center;}#sk-container-id-2 label.sk-toggleable__label-arrow:before {content: \"▸\";float: left;margin-right: 0.25em;color: #696969;}#sk-container-id-2 label.sk-toggleable__label-arrow:hover:before {color: black;}#sk-container-id-2 div.sk-estimator:hover label.sk-toggleable__label-arrow:before {color: black;}#sk-container-id-2 div.sk-toggleable__content {max-height: 0;max-width: 0;overflow: hidden;text-align: left;background-color: #f0f8ff;}#sk-container-id-2 div.sk-toggleable__content pre {margin: 0.2em;color: black;border-radius: 0.25em;background-color: #f0f8ff;}#sk-container-id-2 input.sk-toggleable__control:checked~div.sk-toggleable__content {max-height: 200px;max-width: 100%;overflow: auto;}#sk-container-id-2 input.sk-toggleable__control:checked~label.sk-toggleable__label-arrow:before {content: \"▾\";}#sk-container-id-2 div.sk-estimator input.sk-toggleable__control:checked~label.sk-toggleable__label {background-color: #d4ebff;}#sk-container-id-2 div.sk-label input.sk-toggleable__control:checked~label.sk-toggleable__label {background-color: #d4ebff;}#sk-container-id-2 input.sk-hidden--visually {border: 0;clip: rect(1px 1px 1px 1px);clip: rect(1px, 1px, 1px, 1px);height: 1px;margin: -1px;overflow: hidden;padding: 0;position: absolute;width: 1px;}#sk-container-id-2 div.sk-estimator {font-family: monospace;background-color: #f0f8ff;border: 1px dotted black;border-radius: 0.25em;box-sizing: border-box;margin-bottom: 0.5em;}#sk-container-id-2 div.sk-estimator:hover {background-color: #d4ebff;}#sk-container-id-2 div.sk-parallel-item::after {content: \"\";width: 100%;border-bottom: 1px solid gray;flex-grow: 1;}#sk-container-id-2 div.sk-label:hover label.sk-toggleable__label {background-color: #d4ebff;}#sk-container-id-2 div.sk-serial::before {content: \"\";position: absolute;border-left: 1px solid gray;box-sizing: border-box;top: 0;bottom: 0;left: 50%;z-index: 0;}#sk-container-id-2 div.sk-serial {display: flex;flex-direction: column;align-items: center;background-color: white;padding-right: 0.2em;padding-left: 0.2em;position: relative;}#sk-container-id-2 div.sk-item {position: relative;z-index: 1;}#sk-container-id-2 div.sk-parallel {display: flex;align-items: stretch;justify-content: center;background-color: white;position: relative;}#sk-container-id-2 div.sk-item::before, #sk-container-id-2 div.sk-parallel-item::before {content: \"\";position: absolute;border-left: 1px solid gray;box-sizing: border-box;top: 0;bottom: 0;left: 50%;z-index: -1;}#sk-container-id-2 div.sk-parallel-item {display: flex;flex-direction: column;z-index: 1;position: relative;background-color: white;}#sk-container-id-2 div.sk-parallel-item:first-child::after {align-self: flex-end;width: 50%;}#sk-container-id-2 div.sk-parallel-item:last-child::after {align-self: flex-start;width: 50%;}#sk-container-id-2 div.sk-parallel-item:only-child::after {width: 0;}#sk-container-id-2 div.sk-dashed-wrapped {border: 1px dashed gray;margin: 0 0.4em 0.5em 0.4em;box-sizing: border-box;padding-bottom: 0.4em;background-color: white;}#sk-container-id-2 div.sk-label label {font-family: monospace;font-weight: bold;display: inline-block;line-height: 1.2em;}#sk-container-id-2 div.sk-label-container {text-align: center;}#sk-container-id-2 div.sk-container {/* jupyter's `normalize.less` sets `[hidden] { display: none; }` but bootstrap.min.css set `[hidden] { display: none !important; }` so we also need the `!important` here to be able to override the default hidden behavior on the sphinx rendered scikit-learn.org. See: https://github.com/scikit-learn/scikit-learn/issues/21755 */display: inline-block !important;position: relative;}#sk-container-id-2 div.sk-text-repr-fallback {display: none;}</style><div id=\"sk-container-id-2\" class=\"sk-top-container\"><div class=\"sk-text-repr-fallback\"><pre>RandomForestClassifier(n_estimators=500, random_state=1)</pre><b>In a Jupyter environment, please rerun this cell to show the HTML representation or trust the notebook. <br />On GitHub, the HTML representation is unable to render, please try loading this page with nbviewer.org.</b></div><div class=\"sk-container\" hidden><div class=\"sk-item\"><div class=\"sk-estimator sk-toggleable\"><input class=\"sk-toggleable__control sk-hidden--visually\" id=\"sk-estimator-id-2\" type=\"checkbox\" checked><label for=\"sk-estimator-id-2\" class=\"sk-toggleable__label sk-toggleable__label-arrow\">RandomForestClassifier</label><div class=\"sk-toggleable__content\"><pre>RandomForestClassifier(n_estimators=500, random_state=1)</pre></div></div></div></div></div>"
      ],
      "text/plain": [
       "RandomForestClassifier(n_estimators=500, random_state=1)"
      ]
     },
     "execution_count": 17,
     "metadata": {},
     "output_type": "execute_result"
    }
   ],
   "source": [
    "# Re-fit Random Forest classifier to the scaled data\n",
    "clf.fit(X_train_scaled, y_train)"
   ]
  },
  {
   "cell_type": "code",
   "execution_count": 18,
   "metadata": {},
   "outputs": [
    {
     "name": "stdout",
     "output_type": "stream",
     "text": [
      "Training Score: 0.9971970009629936\n",
      "Testing Score: 0.991900536524969\n"
     ]
    }
   ],
   "source": [
    "print(f\"Training Score: {clf.score(X_train_scaled, y_train)}\")\n",
    "print(f\"Testing Score: {clf.score(X_test_scaled, y_test)}\")"
   ]
  },
  {
   "cell_type": "code",
   "execution_count": 19,
   "metadata": {},
   "outputs": [
    {
     "name": "stdout",
     "output_type": "stream",
     "text": [
      "              precision    recall  f1-score   support\n",
      "\n",
      "           0       1.00      0.99      1.00     18792\n",
      "           1       0.84      0.90      0.87       592\n",
      "\n",
      "    accuracy                           0.99     19384\n",
      "   macro avg       0.92      0.95      0.93     19384\n",
      "weighted avg       0.99      0.99      0.99     19384\n",
      "\n"
     ]
    }
   ],
   "source": [
    "#Assess other metrics for the model\n",
    "y_true = y_test\n",
    "y_pred = clf.predict(X_test_scaled)\n",
    "print(classification_report(y_true, y_pred))"
   ]
  },
  {
   "attachments": {},
   "cell_type": "markdown",
   "metadata": {},
   "source": [
    "# Hyperparameter Tuning and Re-evaluation of models"
   ]
  },
  {
   "attachments": {},
   "cell_type": "markdown",
   "metadata": {},
   "source": [
    "## model = LogisticRegression()"
   ]
  },
  {
   "cell_type": "code",
   "execution_count": 20,
   "metadata": {},
   "outputs": [],
   "source": [
    "from sklearn.model_selection import GridSearchCV\n",
    "import warnings\n",
    "warnings.filterwarnings('ignore')\n",
    "\n",
    "# parameter grid\n",
    "param_grid = {\n",
    "    'tol' : [0.001, 0.01, 0.1], \n",
    "    'C': [0.1, 1, 10, 100],\n",
    "    'solver'  : ['newton-cg', 'lbfgs', 'liblinear'],\n",
    "}"
   ]
  },
  {
   "cell_type": "code",
   "execution_count": 21,
   "metadata": {},
   "outputs": [],
   "source": [
    "grid_clf = GridSearchCV(model, param_grid, verbose=3)"
   ]
  },
  {
   "cell_type": "code",
   "execution_count": 22,
   "metadata": {},
   "outputs": [
    {
     "name": "stdout",
     "output_type": "stream",
     "text": [
      "Fitting 5 folds for each of 36 candidates, totalling 180 fits\n",
      "[CV 1/5] END C=0.1, solver=newton-cg, tol=0.001;, score=0.995 total time=   0.7s\n",
      "[CV 2/5] END C=0.1, solver=newton-cg, tol=0.001;, score=0.993 total time=   0.3s\n",
      "[CV 3/5] END C=0.1, solver=newton-cg, tol=0.001;, score=0.992 total time=   0.4s\n",
      "[CV 4/5] END C=0.1, solver=newton-cg, tol=0.001;, score=0.993 total time=   0.3s\n",
      "[CV 5/5] END C=0.1, solver=newton-cg, tol=0.001;, score=0.994 total time=   0.3s\n",
      "[CV 1/5] END .C=0.1, solver=newton-cg, tol=0.01;, score=0.995 total time=   0.2s\n",
      "[CV 2/5] END .C=0.1, solver=newton-cg, tol=0.01;, score=0.993 total time=   0.2s\n",
      "[CV 3/5] END .C=0.1, solver=newton-cg, tol=0.01;, score=0.992 total time=   0.2s\n",
      "[CV 4/5] END .C=0.1, solver=newton-cg, tol=0.01;, score=0.993 total time=   0.3s\n",
      "[CV 5/5] END .C=0.1, solver=newton-cg, tol=0.01;, score=0.994 total time=   0.2s\n",
      "[CV 1/5] END ..C=0.1, solver=newton-cg, tol=0.1;, score=0.995 total time=   0.5s\n",
      "[CV 2/5] END ..C=0.1, solver=newton-cg, tol=0.1;, score=0.993 total time=   0.4s\n",
      "[CV 3/5] END ..C=0.1, solver=newton-cg, tol=0.1;, score=0.992 total time=   0.2s\n",
      "[CV 4/5] END ..C=0.1, solver=newton-cg, tol=0.1;, score=0.993 total time=   0.2s\n",
      "[CV 5/5] END ..C=0.1, solver=newton-cg, tol=0.1;, score=0.994 total time=   0.3s\n",
      "[CV 1/5] END ....C=0.1, solver=lbfgs, tol=0.001;, score=0.995 total time=   0.2s\n",
      "[CV 2/5] END ....C=0.1, solver=lbfgs, tol=0.001;, score=0.993 total time=   0.1s\n",
      "[CV 3/5] END ....C=0.1, solver=lbfgs, tol=0.001;, score=0.992 total time=   0.2s\n",
      "[CV 4/5] END ....C=0.1, solver=lbfgs, tol=0.001;, score=0.993 total time=   0.2s\n",
      "[CV 5/5] END ....C=0.1, solver=lbfgs, tol=0.001;, score=0.994 total time=   0.1s\n",
      "[CV 1/5] END .....C=0.1, solver=lbfgs, tol=0.01;, score=0.995 total time=   0.1s\n",
      "[CV 2/5] END .....C=0.1, solver=lbfgs, tol=0.01;, score=0.993 total time=   0.1s\n",
      "[CV 3/5] END .....C=0.1, solver=lbfgs, tol=0.01;, score=0.992 total time=   0.1s\n",
      "[CV 4/5] END .....C=0.1, solver=lbfgs, tol=0.01;, score=0.993 total time=   0.1s\n",
      "[CV 5/5] END .....C=0.1, solver=lbfgs, tol=0.01;, score=0.994 total time=   0.1s\n",
      "[CV 1/5] END ......C=0.1, solver=lbfgs, tol=0.1;, score=0.995 total time=   0.1s\n",
      "[CV 2/5] END ......C=0.1, solver=lbfgs, tol=0.1;, score=0.993 total time=   0.1s\n",
      "[CV 3/5] END ......C=0.1, solver=lbfgs, tol=0.1;, score=0.992 total time=   0.1s\n",
      "[CV 4/5] END ......C=0.1, solver=lbfgs, tol=0.1;, score=0.993 total time=   0.1s\n",
      "[CV 5/5] END ......C=0.1, solver=lbfgs, tol=0.1;, score=0.994 total time=   0.1s\n",
      "[CV 1/5] END C=0.1, solver=liblinear, tol=0.001;, score=0.995 total time=   0.3s\n",
      "[CV 2/5] END C=0.1, solver=liblinear, tol=0.001;, score=0.992 total time=   0.2s\n",
      "[CV 3/5] END C=0.1, solver=liblinear, tol=0.001;, score=0.991 total time=   0.2s\n",
      "[CV 4/5] END C=0.1, solver=liblinear, tol=0.001;, score=0.992 total time=   0.1s\n",
      "[CV 5/5] END C=0.1, solver=liblinear, tol=0.001;, score=0.993 total time=   0.1s\n",
      "[CV 1/5] END .C=0.1, solver=liblinear, tol=0.01;, score=0.995 total time=   0.1s\n",
      "[CV 2/5] END .C=0.1, solver=liblinear, tol=0.01;, score=0.992 total time=   0.1s\n",
      "[CV 3/5] END .C=0.1, solver=liblinear, tol=0.01;, score=0.991 total time=   0.1s\n",
      "[CV 4/5] END .C=0.1, solver=liblinear, tol=0.01;, score=0.992 total time=   0.1s\n",
      "[CV 5/5] END .C=0.1, solver=liblinear, tol=0.01;, score=0.993 total time=   0.2s\n",
      "[CV 1/5] END ..C=0.1, solver=liblinear, tol=0.1;, score=0.994 total time=   0.1s\n",
      "[CV 2/5] END ..C=0.1, solver=liblinear, tol=0.1;, score=0.992 total time=   0.1s\n",
      "[CV 3/5] END ..C=0.1, solver=liblinear, tol=0.1;, score=0.991 total time=   0.1s\n",
      "[CV 4/5] END ..C=0.1, solver=liblinear, tol=0.1;, score=0.992 total time=   0.1s\n",
      "[CV 5/5] END ..C=0.1, solver=liblinear, tol=0.1;, score=0.993 total time=   0.1s\n",
      "[CV 1/5] END ..C=1, solver=newton-cg, tol=0.001;, score=0.995 total time=   0.4s\n",
      "[CV 2/5] END ..C=1, solver=newton-cg, tol=0.001;, score=0.994 total time=   0.3s\n",
      "[CV 3/5] END ..C=1, solver=newton-cg, tol=0.001;, score=0.993 total time=   0.3s\n",
      "[CV 4/5] END ..C=1, solver=newton-cg, tol=0.001;, score=0.994 total time=   0.7s\n",
      "[CV 5/5] END ..C=1, solver=newton-cg, tol=0.001;, score=0.995 total time=   0.7s\n",
      "[CV 1/5] END ...C=1, solver=newton-cg, tol=0.01;, score=0.995 total time=   0.3s\n",
      "[CV 2/5] END ...C=1, solver=newton-cg, tol=0.01;, score=0.994 total time=   0.3s\n",
      "[CV 3/5] END ...C=1, solver=newton-cg, tol=0.01;, score=0.993 total time=   0.6s\n",
      "[CV 4/5] END ...C=1, solver=newton-cg, tol=0.01;, score=0.994 total time=   0.7s\n",
      "[CV 5/5] END ...C=1, solver=newton-cg, tol=0.01;, score=0.995 total time=   0.5s\n",
      "[CV 1/5] END ....C=1, solver=newton-cg, tol=0.1;, score=0.995 total time=   0.3s\n",
      "[CV 2/5] END ....C=1, solver=newton-cg, tol=0.1;, score=0.994 total time=   0.8s\n",
      "[CV 3/5] END ....C=1, solver=newton-cg, tol=0.1;, score=0.993 total time=   0.6s\n",
      "[CV 4/5] END ....C=1, solver=newton-cg, tol=0.1;, score=0.994 total time=   0.5s\n",
      "[CV 5/5] END ....C=1, solver=newton-cg, tol=0.1;, score=0.995 total time=   0.7s\n",
      "[CV 1/5] END ......C=1, solver=lbfgs, tol=0.001;, score=0.995 total time=   0.3s\n",
      "[CV 2/5] END ......C=1, solver=lbfgs, tol=0.001;, score=0.994 total time=   0.5s\n",
      "[CV 3/5] END ......C=1, solver=lbfgs, tol=0.001;, score=0.993 total time=   0.3s\n",
      "[CV 4/5] END ......C=1, solver=lbfgs, tol=0.001;, score=0.994 total time=   0.7s\n",
      "[CV 5/5] END ......C=1, solver=lbfgs, tol=0.001;, score=0.995 total time=   0.3s\n",
      "[CV 1/5] END .......C=1, solver=lbfgs, tol=0.01;, score=0.995 total time=   0.2s\n",
      "[CV 2/5] END .......C=1, solver=lbfgs, tol=0.01;, score=0.994 total time=   0.2s\n",
      "[CV 3/5] END .......C=1, solver=lbfgs, tol=0.01;, score=0.993 total time=   0.1s\n",
      "[CV 4/5] END .......C=1, solver=lbfgs, tol=0.01;, score=0.994 total time=   0.1s\n",
      "[CV 5/5] END .......C=1, solver=lbfgs, tol=0.01;, score=0.995 total time=   0.2s\n",
      "[CV 1/5] END ........C=1, solver=lbfgs, tol=0.1;, score=0.995 total time=   0.4s\n",
      "[CV 2/5] END ........C=1, solver=lbfgs, tol=0.1;, score=0.994 total time=   0.2s\n",
      "[CV 3/5] END ........C=1, solver=lbfgs, tol=0.1;, score=0.993 total time=   0.2s\n",
      "[CV 4/5] END ........C=1, solver=lbfgs, tol=0.1;, score=0.994 total time=   0.1s\n",
      "[CV 5/5] END ........C=1, solver=lbfgs, tol=0.1;, score=0.995 total time=   0.2s\n",
      "[CV 1/5] END ..C=1, solver=liblinear, tol=0.001;, score=0.995 total time=   0.2s\n",
      "[CV 2/5] END ..C=1, solver=liblinear, tol=0.001;, score=0.994 total time=   0.2s\n",
      "[CV 3/5] END ..C=1, solver=liblinear, tol=0.001;, score=0.993 total time=   0.1s\n",
      "[CV 4/5] END ..C=1, solver=liblinear, tol=0.001;, score=0.994 total time=   0.1s\n",
      "[CV 5/5] END ..C=1, solver=liblinear, tol=0.001;, score=0.995 total time=   0.1s\n",
      "[CV 1/5] END ...C=1, solver=liblinear, tol=0.01;, score=0.995 total time=   0.1s\n",
      "[CV 2/5] END ...C=1, solver=liblinear, tol=0.01;, score=0.994 total time=   0.1s\n",
      "[CV 3/5] END ...C=1, solver=liblinear, tol=0.01;, score=0.993 total time=   0.1s\n",
      "[CV 4/5] END ...C=1, solver=liblinear, tol=0.01;, score=0.994 total time=   0.1s\n",
      "[CV 5/5] END ...C=1, solver=liblinear, tol=0.01;, score=0.995 total time=   0.2s\n",
      "[CV 1/5] END ....C=1, solver=liblinear, tol=0.1;, score=0.995 total time=   0.1s\n",
      "[CV 2/5] END ....C=1, solver=liblinear, tol=0.1;, score=0.993 total time=   0.1s\n",
      "[CV 3/5] END ....C=1, solver=liblinear, tol=0.1;, score=0.992 total time=   0.1s\n",
      "[CV 4/5] END ....C=1, solver=liblinear, tol=0.1;, score=0.993 total time=   0.1s\n",
      "[CV 5/5] END ....C=1, solver=liblinear, tol=0.1;, score=0.994 total time=   0.2s\n",
      "[CV 1/5] END .C=10, solver=newton-cg, tol=0.001;, score=0.995 total time=   0.7s\n",
      "[CV 2/5] END .C=10, solver=newton-cg, tol=0.001;, score=0.994 total time=   0.4s\n",
      "[CV 3/5] END .C=10, solver=newton-cg, tol=0.001;, score=0.993 total time=   0.4s\n",
      "[CV 4/5] END .C=10, solver=newton-cg, tol=0.001;, score=0.994 total time=   0.3s\n",
      "[CV 5/5] END .C=10, solver=newton-cg, tol=0.001;, score=0.995 total time=   0.5s\n",
      "[CV 1/5] END ..C=10, solver=newton-cg, tol=0.01;, score=0.995 total time=   1.2s\n",
      "[CV 2/5] END ..C=10, solver=newton-cg, tol=0.01;, score=0.994 total time=   0.7s\n",
      "[CV 3/5] END ..C=10, solver=newton-cg, tol=0.01;, score=0.993 total time=   0.6s\n",
      "[CV 4/5] END ..C=10, solver=newton-cg, tol=0.01;, score=0.994 total time=   3.1s\n",
      "[CV 5/5] END ..C=10, solver=newton-cg, tol=0.01;, score=0.995 total time=   8.9s\n",
      "[CV 1/5] END ...C=10, solver=newton-cg, tol=0.1;, score=0.995 total time=   4.3s\n",
      "[CV 2/5] END ...C=10, solver=newton-cg, tol=0.1;, score=0.994 total time=   4.4s\n",
      "[CV 3/5] END ...C=10, solver=newton-cg, tol=0.1;, score=0.993 total time=   2.5s\n",
      "[CV 4/5] END ...C=10, solver=newton-cg, tol=0.1;, score=0.994 total time=   1.6s\n",
      "[CV 5/5] END ...C=10, solver=newton-cg, tol=0.1;, score=0.995 total time=   1.8s\n",
      "[CV 1/5] END .....C=10, solver=lbfgs, tol=0.001;, score=0.995 total time=   1.3s\n",
      "[CV 2/5] END .....C=10, solver=lbfgs, tol=0.001;, score=0.994 total time=   1.2s\n",
      "[CV 3/5] END .....C=10, solver=lbfgs, tol=0.001;, score=0.993 total time=   1.0s\n",
      "[CV 4/5] END .....C=10, solver=lbfgs, tol=0.001;, score=0.994 total time=   1.4s\n",
      "[CV 5/5] END .....C=10, solver=lbfgs, tol=0.001;, score=0.995 total time=   0.9s\n",
      "[CV 1/5] END ......C=10, solver=lbfgs, tol=0.01;, score=0.995 total time=   0.4s\n",
      "[CV 2/5] END ......C=10, solver=lbfgs, tol=0.01;, score=0.994 total time=   0.4s\n",
      "[CV 3/5] END ......C=10, solver=lbfgs, tol=0.01;, score=0.993 total time=   0.3s\n",
      "[CV 4/5] END ......C=10, solver=lbfgs, tol=0.01;, score=0.994 total time=   0.3s\n",
      "[CV 5/5] END ......C=10, solver=lbfgs, tol=0.01;, score=0.995 total time=   0.3s\n",
      "[CV 1/5] END .......C=10, solver=lbfgs, tol=0.1;, score=0.995 total time=   0.7s\n",
      "[CV 2/5] END .......C=10, solver=lbfgs, tol=0.1;, score=0.994 total time=   0.7s\n",
      "[CV 3/5] END .......C=10, solver=lbfgs, tol=0.1;, score=0.993 total time=   0.3s\n",
      "[CV 4/5] END .......C=10, solver=lbfgs, tol=0.1;, score=0.994 total time=   0.2s\n",
      "[CV 5/5] END .......C=10, solver=lbfgs, tol=0.1;, score=0.995 total time=   0.3s\n",
      "[CV 1/5] END .C=10, solver=liblinear, tol=0.001;, score=0.995 total time=   0.2s\n",
      "[CV 2/5] END .C=10, solver=liblinear, tol=0.001;, score=0.994 total time=   0.2s\n",
      "[CV 3/5] END .C=10, solver=liblinear, tol=0.001;, score=0.993 total time=   0.1s\n",
      "[CV 4/5] END .C=10, solver=liblinear, tol=0.001;, score=0.994 total time=   0.2s\n",
      "[CV 5/5] END .C=10, solver=liblinear, tol=0.001;, score=0.995 total time=   0.3s\n",
      "[CV 1/5] END ..C=10, solver=liblinear, tol=0.01;, score=0.995 total time=   0.3s\n",
      "[CV 2/5] END ..C=10, solver=liblinear, tol=0.01;, score=0.994 total time=   0.2s\n",
      "[CV 3/5] END ..C=10, solver=liblinear, tol=0.01;, score=0.993 total time=   0.2s\n",
      "[CV 4/5] END ..C=10, solver=liblinear, tol=0.01;, score=0.994 total time=   0.2s\n",
      "[CV 5/5] END ..C=10, solver=liblinear, tol=0.01;, score=0.995 total time=   0.5s\n",
      "[CV 1/5] END ...C=10, solver=liblinear, tol=0.1;, score=0.995 total time=   0.4s\n",
      "[CV 2/5] END ...C=10, solver=liblinear, tol=0.1;, score=0.993 total time=   0.3s\n",
      "[CV 3/5] END ...C=10, solver=liblinear, tol=0.1;, score=0.992 total time=   0.3s\n",
      "[CV 4/5] END ...C=10, solver=liblinear, tol=0.1;, score=0.994 total time=   0.3s\n",
      "[CV 5/5] END ...C=10, solver=liblinear, tol=0.1;, score=0.994 total time=   0.2s\n",
      "[CV 1/5] END C=100, solver=newton-cg, tol=0.001;, score=0.995 total time=   1.5s\n",
      "[CV 2/5] END C=100, solver=newton-cg, tol=0.001;, score=0.994 total time=   0.5s\n",
      "[CV 3/5] END C=100, solver=newton-cg, tol=0.001;, score=0.993 total time=   1.5s\n",
      "[CV 4/5] END C=100, solver=newton-cg, tol=0.001;, score=0.994 total time=   0.7s\n",
      "[CV 5/5] END C=100, solver=newton-cg, tol=0.001;, score=0.995 total time=   0.6s\n",
      "[CV 1/5] END .C=100, solver=newton-cg, tol=0.01;, score=0.995 total time=   0.7s\n",
      "[CV 2/5] END .C=100, solver=newton-cg, tol=0.01;, score=0.994 total time=   1.1s\n",
      "[CV 3/5] END .C=100, solver=newton-cg, tol=0.01;, score=0.993 total time=   0.7s\n",
      "[CV 4/5] END .C=100, solver=newton-cg, tol=0.01;, score=0.994 total time=   0.9s\n",
      "[CV 5/5] END .C=100, solver=newton-cg, tol=0.01;, score=0.995 total time=   1.1s\n",
      "[CV 1/5] END ..C=100, solver=newton-cg, tol=0.1;, score=0.995 total time=   0.6s\n",
      "[CV 2/5] END ..C=100, solver=newton-cg, tol=0.1;, score=0.994 total time=   0.8s\n",
      "[CV 3/5] END ..C=100, solver=newton-cg, tol=0.1;, score=0.993 total time=   0.4s\n",
      "[CV 4/5] END ..C=100, solver=newton-cg, tol=0.1;, score=0.994 total time=   0.3s\n",
      "[CV 5/5] END ..C=100, solver=newton-cg, tol=0.1;, score=0.995 total time=   0.3s\n",
      "[CV 1/5] END ....C=100, solver=lbfgs, tol=0.001;, score=0.995 total time=   0.2s\n",
      "[CV 2/5] END ....C=100, solver=lbfgs, tol=0.001;, score=0.994 total time=   0.2s\n",
      "[CV 3/5] END ....C=100, solver=lbfgs, tol=0.001;, score=0.993 total time=   0.2s\n",
      "[CV 4/5] END ....C=100, solver=lbfgs, tol=0.001;, score=0.994 total time=   0.2s\n",
      "[CV 5/5] END ....C=100, solver=lbfgs, tol=0.001;, score=0.995 total time=   0.2s\n",
      "[CV 1/5] END .....C=100, solver=lbfgs, tol=0.01;, score=0.995 total time=   0.2s\n",
      "[CV 2/5] END .....C=100, solver=lbfgs, tol=0.01;, score=0.994 total time=   0.2s\n",
      "[CV 3/5] END .....C=100, solver=lbfgs, tol=0.01;, score=0.993 total time=   0.2s\n",
      "[CV 4/5] END .....C=100, solver=lbfgs, tol=0.01;, score=0.994 total time=   0.2s\n",
      "[CV 5/5] END .....C=100, solver=lbfgs, tol=0.01;, score=0.995 total time=   0.2s\n",
      "[CV 1/5] END ......C=100, solver=lbfgs, tol=0.1;, score=0.995 total time=   0.2s\n",
      "[CV 2/5] END ......C=100, solver=lbfgs, tol=0.1;, score=0.994 total time=   0.2s\n",
      "[CV 3/5] END ......C=100, solver=lbfgs, tol=0.1;, score=0.993 total time=   0.2s\n",
      "[CV 4/5] END ......C=100, solver=lbfgs, tol=0.1;, score=0.994 total time=   0.2s\n",
      "[CV 5/5] END ......C=100, solver=lbfgs, tol=0.1;, score=0.995 total time=   0.2s\n",
      "[CV 1/5] END C=100, solver=liblinear, tol=0.001;, score=0.995 total time=   0.2s\n",
      "[CV 2/5] END C=100, solver=liblinear, tol=0.001;, score=0.994 total time=   0.1s\n",
      "[CV 3/5] END C=100, solver=liblinear, tol=0.001;, score=0.993 total time=   0.3s\n",
      "[CV 4/5] END C=100, solver=liblinear, tol=0.001;, score=0.994 total time=   0.1s\n",
      "[CV 5/5] END C=100, solver=liblinear, tol=0.001;, score=0.995 total time=   0.2s\n",
      "[CV 1/5] END .C=100, solver=liblinear, tol=0.01;, score=0.995 total time=   0.2s\n",
      "[CV 2/5] END .C=100, solver=liblinear, tol=0.01;, score=0.994 total time=   0.1s\n",
      "[CV 3/5] END .C=100, solver=liblinear, tol=0.01;, score=0.993 total time=   0.1s\n",
      "[CV 4/5] END .C=100, solver=liblinear, tol=0.01;, score=0.994 total time=   0.1s\n",
      "[CV 5/5] END .C=100, solver=liblinear, tol=0.01;, score=0.995 total time=   0.1s\n",
      "[CV 1/5] END ..C=100, solver=liblinear, tol=0.1;, score=0.995 total time=   0.1s\n",
      "[CV 2/5] END ..C=100, solver=liblinear, tol=0.1;, score=0.993 total time=   0.1s\n",
      "[CV 3/5] END ..C=100, solver=liblinear, tol=0.1;, score=0.992 total time=   0.1s\n",
      "[CV 4/5] END ..C=100, solver=liblinear, tol=0.1;, score=0.994 total time=   0.1s\n",
      "[CV 5/5] END ..C=100, solver=liblinear, tol=0.1;, score=0.994 total time=   0.1s\n"
     ]
    },
    {
     "data": {
      "text/html": [
       "<style>#sk-container-id-3 {color: black;background-color: white;}#sk-container-id-3 pre{padding: 0;}#sk-container-id-3 div.sk-toggleable {background-color: white;}#sk-container-id-3 label.sk-toggleable__label {cursor: pointer;display: block;width: 100%;margin-bottom: 0;padding: 0.3em;box-sizing: border-box;text-align: center;}#sk-container-id-3 label.sk-toggleable__label-arrow:before {content: \"▸\";float: left;margin-right: 0.25em;color: #696969;}#sk-container-id-3 label.sk-toggleable__label-arrow:hover:before {color: black;}#sk-container-id-3 div.sk-estimator:hover label.sk-toggleable__label-arrow:before {color: black;}#sk-container-id-3 div.sk-toggleable__content {max-height: 0;max-width: 0;overflow: hidden;text-align: left;background-color: #f0f8ff;}#sk-container-id-3 div.sk-toggleable__content pre {margin: 0.2em;color: black;border-radius: 0.25em;background-color: #f0f8ff;}#sk-container-id-3 input.sk-toggleable__control:checked~div.sk-toggleable__content {max-height: 200px;max-width: 100%;overflow: auto;}#sk-container-id-3 input.sk-toggleable__control:checked~label.sk-toggleable__label-arrow:before {content: \"▾\";}#sk-container-id-3 div.sk-estimator input.sk-toggleable__control:checked~label.sk-toggleable__label {background-color: #d4ebff;}#sk-container-id-3 div.sk-label input.sk-toggleable__control:checked~label.sk-toggleable__label {background-color: #d4ebff;}#sk-container-id-3 input.sk-hidden--visually {border: 0;clip: rect(1px 1px 1px 1px);clip: rect(1px, 1px, 1px, 1px);height: 1px;margin: -1px;overflow: hidden;padding: 0;position: absolute;width: 1px;}#sk-container-id-3 div.sk-estimator {font-family: monospace;background-color: #f0f8ff;border: 1px dotted black;border-radius: 0.25em;box-sizing: border-box;margin-bottom: 0.5em;}#sk-container-id-3 div.sk-estimator:hover {background-color: #d4ebff;}#sk-container-id-3 div.sk-parallel-item::after {content: \"\";width: 100%;border-bottom: 1px solid gray;flex-grow: 1;}#sk-container-id-3 div.sk-label:hover label.sk-toggleable__label {background-color: #d4ebff;}#sk-container-id-3 div.sk-serial::before {content: \"\";position: absolute;border-left: 1px solid gray;box-sizing: border-box;top: 0;bottom: 0;left: 50%;z-index: 0;}#sk-container-id-3 div.sk-serial {display: flex;flex-direction: column;align-items: center;background-color: white;padding-right: 0.2em;padding-left: 0.2em;position: relative;}#sk-container-id-3 div.sk-item {position: relative;z-index: 1;}#sk-container-id-3 div.sk-parallel {display: flex;align-items: stretch;justify-content: center;background-color: white;position: relative;}#sk-container-id-3 div.sk-item::before, #sk-container-id-3 div.sk-parallel-item::before {content: \"\";position: absolute;border-left: 1px solid gray;box-sizing: border-box;top: 0;bottom: 0;left: 50%;z-index: -1;}#sk-container-id-3 div.sk-parallel-item {display: flex;flex-direction: column;z-index: 1;position: relative;background-color: white;}#sk-container-id-3 div.sk-parallel-item:first-child::after {align-self: flex-end;width: 50%;}#sk-container-id-3 div.sk-parallel-item:last-child::after {align-self: flex-start;width: 50%;}#sk-container-id-3 div.sk-parallel-item:only-child::after {width: 0;}#sk-container-id-3 div.sk-dashed-wrapped {border: 1px dashed gray;margin: 0 0.4em 0.5em 0.4em;box-sizing: border-box;padding-bottom: 0.4em;background-color: white;}#sk-container-id-3 div.sk-label label {font-family: monospace;font-weight: bold;display: inline-block;line-height: 1.2em;}#sk-container-id-3 div.sk-label-container {text-align: center;}#sk-container-id-3 div.sk-container {/* jupyter's `normalize.less` sets `[hidden] { display: none; }` but bootstrap.min.css set `[hidden] { display: none !important; }` so we also need the `!important` here to be able to override the default hidden behavior on the sphinx rendered scikit-learn.org. See: https://github.com/scikit-learn/scikit-learn/issues/21755 */display: inline-block !important;position: relative;}#sk-container-id-3 div.sk-text-repr-fallback {display: none;}</style><div id=\"sk-container-id-3\" class=\"sk-top-container\"><div class=\"sk-text-repr-fallback\"><pre>GridSearchCV(estimator=LogisticRegression(),\n",
       "             param_grid={&#x27;C&#x27;: [0.1, 1, 10, 100],\n",
       "                         &#x27;solver&#x27;: [&#x27;newton-cg&#x27;, &#x27;lbfgs&#x27;, &#x27;liblinear&#x27;],\n",
       "                         &#x27;tol&#x27;: [0.001, 0.01, 0.1]},\n",
       "             verbose=3)</pre><b>In a Jupyter environment, please rerun this cell to show the HTML representation or trust the notebook. <br />On GitHub, the HTML representation is unable to render, please try loading this page with nbviewer.org.</b></div><div class=\"sk-container\" hidden><div class=\"sk-item sk-dashed-wrapped\"><div class=\"sk-label-container\"><div class=\"sk-label sk-toggleable\"><input class=\"sk-toggleable__control sk-hidden--visually\" id=\"sk-estimator-id-3\" type=\"checkbox\" ><label for=\"sk-estimator-id-3\" class=\"sk-toggleable__label sk-toggleable__label-arrow\">GridSearchCV</label><div class=\"sk-toggleable__content\"><pre>GridSearchCV(estimator=LogisticRegression(),\n",
       "             param_grid={&#x27;C&#x27;: [0.1, 1, 10, 100],\n",
       "                         &#x27;solver&#x27;: [&#x27;newton-cg&#x27;, &#x27;lbfgs&#x27;, &#x27;liblinear&#x27;],\n",
       "                         &#x27;tol&#x27;: [0.001, 0.01, 0.1]},\n",
       "             verbose=3)</pre></div></div></div><div class=\"sk-parallel\"><div class=\"sk-parallel-item\"><div class=\"sk-item\"><div class=\"sk-label-container\"><div class=\"sk-label sk-toggleable\"><input class=\"sk-toggleable__control sk-hidden--visually\" id=\"sk-estimator-id-4\" type=\"checkbox\" ><label for=\"sk-estimator-id-4\" class=\"sk-toggleable__label sk-toggleable__label-arrow\">estimator: LogisticRegression</label><div class=\"sk-toggleable__content\"><pre>LogisticRegression()</pre></div></div></div><div class=\"sk-serial\"><div class=\"sk-item\"><div class=\"sk-estimator sk-toggleable\"><input class=\"sk-toggleable__control sk-hidden--visually\" id=\"sk-estimator-id-5\" type=\"checkbox\" ><label for=\"sk-estimator-id-5\" class=\"sk-toggleable__label sk-toggleable__label-arrow\">LogisticRegression</label><div class=\"sk-toggleable__content\"><pre>LogisticRegression()</pre></div></div></div></div></div></div></div></div></div></div>"
      ],
      "text/plain": [
       "GridSearchCV(estimator=LogisticRegression(),\n",
       "             param_grid={'C': [0.1, 1, 10, 100],\n",
       "                         'solver': ['newton-cg', 'lbfgs', 'liblinear'],\n",
       "                         'tol': [0.001, 0.01, 0.1]},\n",
       "             verbose=3)"
      ]
     },
     "execution_count": 22,
     "metadata": {},
     "output_type": "execute_result"
    }
   ],
   "source": [
    "grid_clf.fit(X_train_scaled, y_train)"
   ]
  },
  {
   "cell_type": "code",
   "execution_count": 23,
   "metadata": {},
   "outputs": [
    {
     "name": "stdout",
     "output_type": "stream",
     "text": [
      "Tuned Hyperparameters : {'C': 1, 'solver': 'newton-cg', 'tol': 0.001}\n",
      "Accuracy : 0.9941188419804666\n"
     ]
    }
   ],
   "source": [
    "print(\"Tuned Hyperparameters :\", grid_clf.best_params_)\n",
    "print(\"Accuracy :\",grid_clf.best_score_)"
   ]
  },
  {
   "cell_type": "code",
   "execution_count": 24,
   "metadata": {},
   "outputs": [],
   "source": [
    "# Make predictions with the hypertuned model\n",
    "predictions = grid_clf.predict(X_test_scaled)"
   ]
  },
  {
   "cell_type": "code",
   "execution_count": 25,
   "metadata": {},
   "outputs": [
    {
     "name": "stdout",
     "output_type": "stream",
     "text": [
      "              precision    recall  f1-score   support\n",
      "\n",
      "           0       1.00      0.99      1.00     18792\n",
      "           1       0.85      0.98      0.91       592\n",
      "\n",
      "    accuracy                           0.99     19384\n",
      "   macro avg       0.93      0.99      0.95     19384\n",
      "weighted avg       0.99      0.99      0.99     19384\n",
      "\n"
     ]
    }
   ],
   "source": [
    "#Assess other metrics for the model\n",
    "y_true = y_test\n",
    "y_pred = predictions\n",
    "print(classification_report(y_true, y_pred))"
   ]
  },
  {
   "attachments": {},
   "cell_type": "markdown",
   "metadata": {},
   "source": [
    "## model = Random Forest Classifier()"
   ]
  },
  {
   "cell_type": "code",
   "execution_count": 40,
   "metadata": {},
   "outputs": [],
   "source": [
    "param_grid1 = { \n",
    "    'n_estimators': [100, 200],\n",
    "    'max_depth' : [4, 6, 8],\n",
    "    'criterion' :['gini', 'entropy']\n",
    "}"
   ]
  },
  {
   "cell_type": "code",
   "execution_count": 41,
   "metadata": {},
   "outputs": [],
   "source": [
    "RFC_CV = GridSearchCV(estimator=clf, param_grid=param_grid1, verbose=3)\n"
   ]
  },
  {
   "cell_type": "code",
   "execution_count": 42,
   "metadata": {},
   "outputs": [
    {
     "name": "stdout",
     "output_type": "stream",
     "text": [
      "Fitting 5 folds for each of 12 candidates, totalling 60 fits\n",
      "[CV 1/5] END criterion=gini, max_depth=4, n_estimators=100;, score=0.996 total time=   6.4s\n",
      "[CV 2/5] END criterion=gini, max_depth=4, n_estimators=100;, score=0.994 total time=   3.7s\n",
      "[CV 3/5] END criterion=gini, max_depth=4, n_estimators=100;, score=0.993 total time=   2.4s\n",
      "[CV 4/5] END criterion=gini, max_depth=4, n_estimators=100;, score=0.994 total time=   2.7s\n",
      "[CV 5/5] END criterion=gini, max_depth=4, n_estimators=100;, score=0.995 total time=   3.0s\n",
      "[CV 1/5] END criterion=gini, max_depth=4, n_estimators=200;, score=0.996 total time=   4.9s\n",
      "[CV 2/5] END criterion=gini, max_depth=4, n_estimators=200;, score=0.994 total time=   4.6s\n",
      "[CV 3/5] END criterion=gini, max_depth=4, n_estimators=200;, score=0.993 total time=   4.2s\n",
      "[CV 4/5] END criterion=gini, max_depth=4, n_estimators=200;, score=0.994 total time=   4.3s\n",
      "[CV 5/5] END criterion=gini, max_depth=4, n_estimators=200;, score=0.995 total time=   4.4s\n",
      "[CV 1/5] END criterion=gini, max_depth=6, n_estimators=100;, score=0.996 total time=   2.6s\n",
      "[CV 2/5] END criterion=gini, max_depth=6, n_estimators=100;, score=0.994 total time=   2.9s\n",
      "[CV 3/5] END criterion=gini, max_depth=6, n_estimators=100;, score=0.993 total time=   2.5s\n",
      "[CV 4/5] END criterion=gini, max_depth=6, n_estimators=100;, score=0.994 total time=   2.6s\n",
      "[CV 5/5] END criterion=gini, max_depth=6, n_estimators=100;, score=0.995 total time=   2.7s\n",
      "[CV 1/5] END criterion=gini, max_depth=6, n_estimators=200;, score=0.996 total time=   5.2s\n",
      "[CV 2/5] END criterion=gini, max_depth=6, n_estimators=200;, score=0.994 total time=   5.4s\n",
      "[CV 3/5] END criterion=gini, max_depth=6, n_estimators=200;, score=0.993 total time=   8.4s\n",
      "[CV 4/5] END criterion=gini, max_depth=6, n_estimators=200;, score=0.994 total time=  10.6s\n",
      "[CV 5/5] END criterion=gini, max_depth=6, n_estimators=200;, score=0.995 total time=   9.3s\n",
      "[CV 1/5] END criterion=gini, max_depth=8, n_estimators=100;, score=0.996 total time=   3.5s\n",
      "[CV 2/5] END criterion=gini, max_depth=8, n_estimators=100;, score=0.994 total time=   3.6s\n",
      "[CV 3/5] END criterion=gini, max_depth=8, n_estimators=100;, score=0.993 total time=   2.8s\n",
      "[CV 4/5] END criterion=gini, max_depth=8, n_estimators=100;, score=0.994 total time=   4.0s\n",
      "[CV 5/5] END criterion=gini, max_depth=8, n_estimators=100;, score=0.995 total time=   3.7s\n",
      "[CV 1/5] END criterion=gini, max_depth=8, n_estimators=200;, score=0.996 total time=   7.6s\n",
      "[CV 2/5] END criterion=gini, max_depth=8, n_estimators=200;, score=0.994 total time=   7.9s\n",
      "[CV 3/5] END criterion=gini, max_depth=8, n_estimators=200;, score=0.993 total time=   5.6s\n",
      "[CV 4/5] END criterion=gini, max_depth=8, n_estimators=200;, score=0.994 total time=   9.1s\n",
      "[CV 5/5] END criterion=gini, max_depth=8, n_estimators=200;, score=0.995 total time=   7.5s\n",
      "[CV 1/5] END criterion=entropy, max_depth=4, n_estimators=100;, score=0.996 total time=  17.5s\n",
      "[CV 2/5] END criterion=entropy, max_depth=4, n_estimators=100;, score=0.994 total time=   5.0s\n",
      "[CV 3/5] END criterion=entropy, max_depth=4, n_estimators=100;, score=0.993 total time=   4.6s\n",
      "[CV 4/5] END criterion=entropy, max_depth=4, n_estimators=100;, score=0.994 total time=   3.4s\n",
      "[CV 5/5] END criterion=entropy, max_depth=4, n_estimators=100;, score=0.995 total time=   3.4s\n",
      "[CV 1/5] END criterion=entropy, max_depth=4, n_estimators=200;, score=0.996 total time=   5.3s\n",
      "[CV 2/5] END criterion=entropy, max_depth=4, n_estimators=200;, score=0.994 total time=   4.6s\n",
      "[CV 3/5] END criterion=entropy, max_depth=4, n_estimators=200;, score=0.993 total time=   6.5s\n",
      "[CV 4/5] END criterion=entropy, max_depth=4, n_estimators=200;, score=0.994 total time=   5.3s\n",
      "[CV 5/5] END criterion=entropy, max_depth=4, n_estimators=200;, score=0.995 total time=   6.3s\n",
      "[CV 1/5] END criterion=entropy, max_depth=6, n_estimators=100;, score=0.996 total time=   2.7s\n",
      "[CV 2/5] END criterion=entropy, max_depth=6, n_estimators=100;, score=0.994 total time=   4.5s\n",
      "[CV 3/5] END criterion=entropy, max_depth=6, n_estimators=100;, score=0.993 total time=   2.6s\n",
      "[CV 4/5] END criterion=entropy, max_depth=6, n_estimators=100;, score=0.994 total time=   2.7s\n",
      "[CV 5/5] END criterion=entropy, max_depth=6, n_estimators=100;, score=0.995 total time=   4.8s\n",
      "[CV 1/5] END criterion=entropy, max_depth=6, n_estimators=200;, score=0.996 total time=   6.3s\n",
      "[CV 2/5] END criterion=entropy, max_depth=6, n_estimators=200;, score=0.994 total time=   5.7s\n",
      "[CV 3/5] END criterion=entropy, max_depth=6, n_estimators=200;, score=0.993 total time=   5.0s\n",
      "[CV 4/5] END criterion=entropy, max_depth=6, n_estimators=200;, score=0.994 total time=   7.6s\n",
      "[CV 5/5] END criterion=entropy, max_depth=6, n_estimators=200;, score=0.995 total time=   6.5s\n",
      "[CV 1/5] END criterion=entropy, max_depth=8, n_estimators=100;, score=0.996 total time=   3.7s\n",
      "[CV 2/5] END criterion=entropy, max_depth=8, n_estimators=100;, score=0.994 total time=   6.3s\n",
      "[CV 3/5] END criterion=entropy, max_depth=8, n_estimators=100;, score=0.993 total time=   3.3s\n",
      "[CV 4/5] END criterion=entropy, max_depth=8, n_estimators=100;, score=0.994 total time=   2.9s\n",
      "[CV 5/5] END criterion=entropy, max_depth=8, n_estimators=100;, score=0.995 total time=   3.5s\n",
      "[CV 1/5] END criterion=entropy, max_depth=8, n_estimators=200;, score=0.996 total time=   6.2s\n",
      "[CV 2/5] END criterion=entropy, max_depth=8, n_estimators=200;, score=0.994 total time=  10.0s\n",
      "[CV 3/5] END criterion=entropy, max_depth=8, n_estimators=200;, score=0.993 total time=   6.0s\n",
      "[CV 4/5] END criterion=entropy, max_depth=8, n_estimators=200;, score=0.994 total time=   5.8s\n",
      "[CV 5/5] END criterion=entropy, max_depth=8, n_estimators=200;, score=0.995 total time=   7.2s\n"
     ]
    },
    {
     "data": {
      "text/html": [
       "<style>#sk-container-id-4 {color: black;background-color: white;}#sk-container-id-4 pre{padding: 0;}#sk-container-id-4 div.sk-toggleable {background-color: white;}#sk-container-id-4 label.sk-toggleable__label {cursor: pointer;display: block;width: 100%;margin-bottom: 0;padding: 0.3em;box-sizing: border-box;text-align: center;}#sk-container-id-4 label.sk-toggleable__label-arrow:before {content: \"▸\";float: left;margin-right: 0.25em;color: #696969;}#sk-container-id-4 label.sk-toggleable__label-arrow:hover:before {color: black;}#sk-container-id-4 div.sk-estimator:hover label.sk-toggleable__label-arrow:before {color: black;}#sk-container-id-4 div.sk-toggleable__content {max-height: 0;max-width: 0;overflow: hidden;text-align: left;background-color: #f0f8ff;}#sk-container-id-4 div.sk-toggleable__content pre {margin: 0.2em;color: black;border-radius: 0.25em;background-color: #f0f8ff;}#sk-container-id-4 input.sk-toggleable__control:checked~div.sk-toggleable__content {max-height: 200px;max-width: 100%;overflow: auto;}#sk-container-id-4 input.sk-toggleable__control:checked~label.sk-toggleable__label-arrow:before {content: \"▾\";}#sk-container-id-4 div.sk-estimator input.sk-toggleable__control:checked~label.sk-toggleable__label {background-color: #d4ebff;}#sk-container-id-4 div.sk-label input.sk-toggleable__control:checked~label.sk-toggleable__label {background-color: #d4ebff;}#sk-container-id-4 input.sk-hidden--visually {border: 0;clip: rect(1px 1px 1px 1px);clip: rect(1px, 1px, 1px, 1px);height: 1px;margin: -1px;overflow: hidden;padding: 0;position: absolute;width: 1px;}#sk-container-id-4 div.sk-estimator {font-family: monospace;background-color: #f0f8ff;border: 1px dotted black;border-radius: 0.25em;box-sizing: border-box;margin-bottom: 0.5em;}#sk-container-id-4 div.sk-estimator:hover {background-color: #d4ebff;}#sk-container-id-4 div.sk-parallel-item::after {content: \"\";width: 100%;border-bottom: 1px solid gray;flex-grow: 1;}#sk-container-id-4 div.sk-label:hover label.sk-toggleable__label {background-color: #d4ebff;}#sk-container-id-4 div.sk-serial::before {content: \"\";position: absolute;border-left: 1px solid gray;box-sizing: border-box;top: 0;bottom: 0;left: 50%;z-index: 0;}#sk-container-id-4 div.sk-serial {display: flex;flex-direction: column;align-items: center;background-color: white;padding-right: 0.2em;padding-left: 0.2em;position: relative;}#sk-container-id-4 div.sk-item {position: relative;z-index: 1;}#sk-container-id-4 div.sk-parallel {display: flex;align-items: stretch;justify-content: center;background-color: white;position: relative;}#sk-container-id-4 div.sk-item::before, #sk-container-id-4 div.sk-parallel-item::before {content: \"\";position: absolute;border-left: 1px solid gray;box-sizing: border-box;top: 0;bottom: 0;left: 50%;z-index: -1;}#sk-container-id-4 div.sk-parallel-item {display: flex;flex-direction: column;z-index: 1;position: relative;background-color: white;}#sk-container-id-4 div.sk-parallel-item:first-child::after {align-self: flex-end;width: 50%;}#sk-container-id-4 div.sk-parallel-item:last-child::after {align-self: flex-start;width: 50%;}#sk-container-id-4 div.sk-parallel-item:only-child::after {width: 0;}#sk-container-id-4 div.sk-dashed-wrapped {border: 1px dashed gray;margin: 0 0.4em 0.5em 0.4em;box-sizing: border-box;padding-bottom: 0.4em;background-color: white;}#sk-container-id-4 div.sk-label label {font-family: monospace;font-weight: bold;display: inline-block;line-height: 1.2em;}#sk-container-id-4 div.sk-label-container {text-align: center;}#sk-container-id-4 div.sk-container {/* jupyter's `normalize.less` sets `[hidden] { display: none; }` but bootstrap.min.css set `[hidden] { display: none !important; }` so we also need the `!important` here to be able to override the default hidden behavior on the sphinx rendered scikit-learn.org. See: https://github.com/scikit-learn/scikit-learn/issues/21755 */display: inline-block !important;position: relative;}#sk-container-id-4 div.sk-text-repr-fallback {display: none;}</style><div id=\"sk-container-id-4\" class=\"sk-top-container\"><div class=\"sk-text-repr-fallback\"><pre>GridSearchCV(estimator=RandomForestClassifier(n_estimators=500, random_state=1),\n",
       "             param_grid={&#x27;criterion&#x27;: [&#x27;gini&#x27;, &#x27;entropy&#x27;],\n",
       "                         &#x27;max_depth&#x27;: [4, 6, 8], &#x27;n_estimators&#x27;: [100, 200]},\n",
       "             verbose=3)</pre><b>In a Jupyter environment, please rerun this cell to show the HTML representation or trust the notebook. <br />On GitHub, the HTML representation is unable to render, please try loading this page with nbviewer.org.</b></div><div class=\"sk-container\" hidden><div class=\"sk-item sk-dashed-wrapped\"><div class=\"sk-label-container\"><div class=\"sk-label sk-toggleable\"><input class=\"sk-toggleable__control sk-hidden--visually\" id=\"sk-estimator-id-6\" type=\"checkbox\" ><label for=\"sk-estimator-id-6\" class=\"sk-toggleable__label sk-toggleable__label-arrow\">GridSearchCV</label><div class=\"sk-toggleable__content\"><pre>GridSearchCV(estimator=RandomForestClassifier(n_estimators=500, random_state=1),\n",
       "             param_grid={&#x27;criterion&#x27;: [&#x27;gini&#x27;, &#x27;entropy&#x27;],\n",
       "                         &#x27;max_depth&#x27;: [4, 6, 8], &#x27;n_estimators&#x27;: [100, 200]},\n",
       "             verbose=3)</pre></div></div></div><div class=\"sk-parallel\"><div class=\"sk-parallel-item\"><div class=\"sk-item\"><div class=\"sk-label-container\"><div class=\"sk-label sk-toggleable\"><input class=\"sk-toggleable__control sk-hidden--visually\" id=\"sk-estimator-id-7\" type=\"checkbox\" ><label for=\"sk-estimator-id-7\" class=\"sk-toggleable__label sk-toggleable__label-arrow\">estimator: RandomForestClassifier</label><div class=\"sk-toggleable__content\"><pre>RandomForestClassifier(n_estimators=500, random_state=1)</pre></div></div></div><div class=\"sk-serial\"><div class=\"sk-item\"><div class=\"sk-estimator sk-toggleable\"><input class=\"sk-toggleable__control sk-hidden--visually\" id=\"sk-estimator-id-8\" type=\"checkbox\" ><label for=\"sk-estimator-id-8\" class=\"sk-toggleable__label sk-toggleable__label-arrow\">RandomForestClassifier</label><div class=\"sk-toggleable__content\"><pre>RandomForestClassifier(n_estimators=500, random_state=1)</pre></div></div></div></div></div></div></div></div></div></div>"
      ],
      "text/plain": [
       "GridSearchCV(estimator=RandomForestClassifier(n_estimators=500, random_state=1),\n",
       "             param_grid={'criterion': ['gini', 'entropy'],\n",
       "                         'max_depth': [4, 6, 8], 'n_estimators': [100, 200]},\n",
       "             verbose=3)"
      ]
     },
     "execution_count": 42,
     "metadata": {},
     "output_type": "execute_result"
    }
   ],
   "source": [
    "RFC_CV.fit(X_train_scaled, y_train)"
   ]
  },
  {
   "cell_type": "code",
   "execution_count": 43,
   "metadata": {},
   "outputs": [
    {
     "name": "stdout",
     "output_type": "stream",
     "text": [
      "Tuned Hyperparameters : {'criterion': 'gini', 'max_depth': 4, 'n_estimators': 100}\n",
      "Accuracy : 0.9943939865392195\n"
     ]
    }
   ],
   "source": [
    "print(\"Tuned Hyperparameters :\", RFC_CV.best_params_)\n",
    "print(\"Accuracy :\",RFC_CV.best_score_)"
   ]
  },
  {
   "cell_type": "code",
   "execution_count": 44,
   "metadata": {},
   "outputs": [],
   "source": [
    "# Make predictions with the hypertuned model\n",
    "predictions1 = RFC_CV.predict(X_test_scaled)"
   ]
  },
  {
   "cell_type": "code",
   "execution_count": 45,
   "metadata": {},
   "outputs": [
    {
     "name": "stdout",
     "output_type": "stream",
     "text": [
      "              precision    recall  f1-score   support\n",
      "\n",
      "           0       1.00      0.99      1.00     18792\n",
      "           1       0.85      0.99      0.92       592\n",
      "\n",
      "    accuracy                           0.99     19384\n",
      "   macro avg       0.92      0.99      0.96     19384\n",
      "weighted avg       1.00      0.99      0.99     19384\n",
      "\n"
     ]
    }
   ],
   "source": [
    "#Assess other metrics for the model\n",
    "y_true1 = y_test\n",
    "y_pred1 = predictions1\n",
    "print(classification_report(y_true1, y_pred1))"
   ]
  }
 ],
 "metadata": {
  "kernelspec": {
   "display_name": "Python 3",
   "language": "python",
   "name": "python3"
  },
  "language_info": {
   "codemirror_mode": {
    "name": "ipython",
    "version": 3
   },
   "file_extension": ".py",
   "mimetype": "text/x-python",
   "name": "python",
   "nbconvert_exporter": "python",
   "pygments_lexer": "ipython3",
   "version": "3.9.6 (default, Aug  5 2022, 15:21:02) \n[Clang 14.0.0 (clang-1400.0.29.102)]"
  },
  "vscode": {
   "interpreter": {
    "hash": "31f2aee4e71d21fbe5cf8b01ff0e069b9275f58929596ceb00d14d90e3e16cd6"
   }
  }
 },
 "nbformat": 4,
 "nbformat_minor": 4
}
